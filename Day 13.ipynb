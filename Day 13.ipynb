{
 "cells": [
  {
   "cell_type": "markdown",
   "id": "b8923900-b280-4d21-b848-d60fbc7ba762",
   "metadata": {},
   "source": [
    "tjgabriel.mentor@gmail.com"
   ]
  },
  {
   "cell_type": "markdown",
   "id": "54f5df9c-4444-48be-9de7-c57fe016b910",
   "metadata": {},
   "source": [
    "## YOGESH\n",
    "**Pros:**\n",
    "•\tArticulation - good for now. As a Fresher, it is really appreciated.\n",
    "•\t1st Page Theme is relevant\n",
    "•\tReleavant inferences and suggestions are given in each slide.\n",
    "•\tFinal Inferences is good.\n",
    "\n",
    "**Cons:**\n",
    "•\tWhen you say, exited, there is no exitement\n",
    "•\tBut theme changed from 2nd slide.\n",
    "•\tWhen would like to go to a restaurent? It should be more appealing right? THen why not the theme?\n",
    "•\tBenefit of this analysis not covered.\n",
    "•\tTime not covered\n",
    "•\tAgenda?\n",
    "•\tNo of restaurant - display top 10 and bottom\n",
    "•\tNot \"Bottom 10\" ..iT's \"Least 10\"\n",
    "•\tThere is a long gap between each slides\n",
    "•\tThe flow is missing\n",
    "•\tMentioning about Bivariate analysis/Unitvariate analysis - \n",
    "•\tNot \"People's\" - It's People - Check with Google for spelling\n",
    "•\tSome graphs are expanded. \n",
    "•\tCreating curosity while delivering it's your responsibility. Not the one who listens. Have some techniques\n",
    "•\tIts final Inferences, it is overall summary."
   ]
  },
  {
   "cell_type": "code",
   "execution_count": null,
   "id": "c5643217-6167-4535-aa76-d2be984c3fe2",
   "metadata": {},
   "outputs": [],
   "source": []
  }
 ],
 "metadata": {
  "kernelspec": {
   "display_name": "Python 3 (ipykernel)",
   "language": "python",
   "name": "python3"
  },
  "language_info": {
   "codemirror_mode": {
    "name": "ipython",
    "version": 3
   },
   "file_extension": ".py",
   "mimetype": "text/x-python",
   "name": "python",
   "nbconvert_exporter": "python",
   "pygments_lexer": "ipython3",
   "version": "3.12.0"
  }
 },
 "nbformat": 4,
 "nbformat_minor": 5
}
