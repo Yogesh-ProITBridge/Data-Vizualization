{
 "cells": [
  {
   "cell_type": "markdown",
   "id": "028797fb-9356-4ea8-a14b-ad5ee7c3532e",
   "metadata": {},
   "source": [
    "# 1.6 Reshaping in array"
   ]
  },
  {
   "cell_type": "code",
   "execution_count": 1,
   "id": "e74e3c5a-06db-48fb-b35c-0f7ae24118a5",
   "metadata": {},
   "outputs": [],
   "source": [
    "import numpy as np"
   ]
  },
  {
   "cell_type": "code",
   "execution_count": 2,
   "id": "ab66ba27-6af1-409b-9416-a0d3b5171a79",
   "metadata": {},
   "outputs": [],
   "source": [
    "arr_3D = np.array([[[2,3],[6,5],[6,8,],[9,8]]])"
   ]
  },
  {
   "cell_type": "code",
   "execution_count": 3,
   "id": "155b50d6-8475-44cd-b64e-752c65a41fe5",
   "metadata": {},
   "outputs": [
    {
     "data": {
      "text/plain": [
       "array([[[2, 3],\n",
       "        [6, 5],\n",
       "        [6, 8],\n",
       "        [9, 8]]])"
      ]
     },
     "execution_count": 3,
     "metadata": {},
     "output_type": "execute_result"
    }
   ],
   "source": [
    "arr_3D"
   ]
  },
  {
   "cell_type": "code",
   "execution_count": 4,
   "id": "d343a80f-735c-4731-bde8-d4e52d318f70",
   "metadata": {},
   "outputs": [
    {
     "data": {
      "text/plain": [
       "3"
      ]
     },
     "execution_count": 4,
     "metadata": {},
     "output_type": "execute_result"
    }
   ],
   "source": [
    "arr_3D.ndim"
   ]
  },
  {
   "cell_type": "code",
   "execution_count": 5,
   "id": "d07d7941-9f19-4f16-8dcb-41eeeed4946c",
   "metadata": {},
   "outputs": [
    {
     "data": {
      "text/plain": [
       "array([[2, 3, 6, 5, 6, 8, 9, 8]])"
      ]
     },
     "execution_count": 5,
     "metadata": {},
     "output_type": "execute_result"
    }
   ],
   "source": [
    "arr_3D.reshape(1,8)"
   ]
  },
  {
   "cell_type": "code",
   "execution_count": 6,
   "id": "abd543ad-814c-4e46-a041-2be4b3687f27",
   "metadata": {},
   "outputs": [
    {
     "data": {
      "text/plain": [
       "3"
      ]
     },
     "execution_count": 6,
     "metadata": {},
     "output_type": "execute_result"
    }
   ],
   "source": [
    "arr_3D.ndim"
   ]
  },
  {
   "cell_type": "code",
   "execution_count": null,
   "id": "4af498c5-96a2-4821-81df-65411a8d1be9",
   "metadata": {},
   "outputs": [],
   "source": []
  },
  {
   "cell_type": "markdown",
   "id": "fe5f4e50-6b28-4fb7-b517-3826933d5c21",
   "metadata": {},
   "source": [
    "# 1.7 Flatting the Array"
   ]
  },
  {
   "cell_type": "code",
   "execution_count": 7,
   "id": "0ded6b2a-0b89-4aa3-8086-d3486424d30e",
   "metadata": {},
   "outputs": [],
   "source": [
    "flatten_3D=arr_3D.flatten()"
   ]
  },
  {
   "cell_type": "code",
   "execution_count": 8,
   "id": "1a444d3f-d2fb-4c13-b55b-08bbc54ec4c4",
   "metadata": {},
   "outputs": [
    {
     "data": {
      "text/plain": [
       "1"
      ]
     },
     "execution_count": 8,
     "metadata": {},
     "output_type": "execute_result"
    }
   ],
   "source": [
    "flatten_3D.ndim"
   ]
  },
  {
   "cell_type": "code",
   "execution_count": null,
   "id": "3629fc7d-201e-4e98-9d9f-2db7f9acdc40",
   "metadata": {},
   "outputs": [],
   "source": []
  },
  {
   "cell_type": "markdown",
   "id": "08253eff-f3ba-4c32-bcd0-d08c08ecfc4c",
   "metadata": {},
   "source": [
    "### 1.8 Generate Random Numbers - Sequence or from any distribution"
   ]
  },
  {
   "cell_type": "code",
   "execution_count": 9,
   "id": "12a62506-044b-4753-a3aa-b7088a269340",
   "metadata": {},
   "outputs": [],
   "source": [
    "import random"
   ]
  },
  {
   "cell_type": "code",
   "execution_count": 10,
   "id": "fb5f5351-080e-421b-9f6e-3603d5d0801d",
   "metadata": {},
   "outputs": [
    {
     "data": {
      "text/plain": [
       "3"
      ]
     },
     "execution_count": 10,
     "metadata": {},
     "output_type": "execute_result"
    }
   ],
   "source": [
    "random.randint(1,6)"
   ]
  },
  {
   "cell_type": "code",
   "execution_count": 15,
   "id": "ca251b22-22ab-449f-a956-c0f2a01faff5",
   "metadata": {},
   "outputs": [
    {
     "ename": "NameError",
     "evalue": "name 'dice' is not defined",
     "output_type": "error",
     "traceback": [
      "\u001b[1;31m---------------------------------------------------------------------------\u001b[0m",
      "\u001b[1;31mNameError\u001b[0m                                 Traceback (most recent call last)",
      "Cell \u001b[1;32mIn[15], line 2\u001b[0m\n\u001b[0;32m      1\u001b[0m \u001b[38;5;28;01mfor\u001b[39;00m i \u001b[38;5;129;01min\u001b[39;00m \u001b[38;5;28mrange\u001b[39m(\u001b[38;5;241m10\u001b[39m):\n\u001b[1;32m----> 2\u001b[0m     output \u001b[38;5;241m=\u001b[39m \u001b[43mdice\u001b[49m(\u001b[38;5;241m10\u001b[39m)\n\u001b[0;32m      3\u001b[0m     \u001b[38;5;28mprint\u001b[39m(\u001b[38;5;124mf\u001b[39m\u001b[38;5;124m\"\u001b[39m\u001b[38;5;124m(i+1): The dice: (output)\u001b[39m\u001b[38;5;124m\"\u001b[39m)\n",
      "\u001b[1;31mNameError\u001b[0m: name 'dice' is not defined"
     ]
    }
   ],
   "source": [
    "for i in range(10):\n",
    "    output = dice(10)\n",
    "    print(f\"(i+1): The dice: (output)\")"
   ]
  },
  {
   "cell_type": "code",
   "execution_count": 16,
   "id": "0bf613c6-89e3-46c4-a7f3-c447fb3c24e3",
   "metadata": {},
   "outputs": [
    {
     "data": {
      "text/plain": [
       "array([ 1,  2,  3,  4,  5,  6,  7,  8,  9, 10, 11, 12, 13, 14, 15, 16, 17,\n",
       "       18, 19, 20])"
      ]
     },
     "execution_count": 16,
     "metadata": {},
     "output_type": "execute_result"
    }
   ],
   "source": [
    "np.arange(1,21)"
   ]
  },
  {
   "cell_type": "code",
   "execution_count": 21,
   "id": "8e6b52a0-2e39-4116-a116-44b16db9a146",
   "metadata": {},
   "outputs": [
    {
     "data": {
      "text/plain": [
       "array([ 2.,  4.,  6.,  8., 10., 12., 14., 16., 18., 20.])"
      ]
     },
     "execution_count": 21,
     "metadata": {},
     "output_type": "execute_result"
    }
   ],
   "source": [
    "np.linspace(start=2,stop=20,num=10)"
   ]
  },
  {
   "cell_type": "code",
   "execution_count": 22,
   "id": "1b95f71b-cef0-4a39-b42d-6e0e91e7db39",
   "metadata": {},
   "outputs": [],
   "source": [
    "import numpy as np\n",
    "from matplotlib import pyplot as plt\n",
    "import seaborn as sns"
   ]
  },
  {
   "cell_type": "code",
   "execution_count": 23,
   "id": "6be581fe-9841-41c2-b226-bb69451ad1ee",
   "metadata": {},
   "outputs": [],
   "source": [
    "np.random.seed()\n",
    "normal_distribution = np.random.randn(10,10)"
   ]
  },
  {
   "cell_type": "code",
   "execution_count": 24,
   "id": "343b4d59-ada5-451e-9c29-fdf0e50524e7",
   "metadata": {},
   "outputs": [
    {
     "data": {
      "image/png": "[encoded data removed]",
      "text/plain": [
       "<Figure size 640x480 with 1 Axes>"
      ]
     },
     "metadata": {},
     "output_type": "display_data"
    }
   ],
   "source": [
    "plt.hist(normal_distribution)\n",
    "plt.show()"
   ]
  },
  {
   "cell_type": "code",
   "execution_count": null,
   "id": "2aa6f7bb-793c-4661-9577-9f4b7ce6a20b",
   "metadata": {},
   "outputs": [],
   "source": [
    "It follows an empirical rule:\n",
    "68% of the datapoints should fall between -1 to 1\n",
    "95% of the datapoints should fall between -2 to 2\n",
    "99.9% of the datapoints should fall between -3 to 3"
   ]
  }
 ],
 "metadata": {
  "kernelspec": {
   "display_name": "Python 3 (ipykernel)",
   "language": "python",
   "name": "python3"
  },
  "language_info": {
   "codemirror_mode": {
    "name": "ipython",
    "version": 3
   },
   "file_extension": ".py",
   "mimetype": "text/x-python",
   "name": "python",
   "nbconvert_exporter": "python",
   "pygments_lexer": "ipython3",
   "version": "3.12.0"
  }
 },
 "nbformat": 4,
 "nbformat_minor": 5
}
