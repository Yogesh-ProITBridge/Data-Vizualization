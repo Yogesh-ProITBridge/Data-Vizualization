{
 "cells": [
  {
   "cell_type": "markdown",
   "id": "b8892222-5712-40b9-bfc6-98d0b287d376",
   "metadata": {},
   "source": [
    "## Boxplot\n",
    "-  Box plots are used in statistics to graphically display various parameters at a glance.\n",
    "-  In boxplot the median, the interquartile range and the outliers can be read.\n",
    "-  The data must have metric scale level.\n",
    "-  A boxplot is often created to contrast two or more groups."
   ]
  },
  {
   "cell_type": "markdown",
   "id": "20b0843b-28bf-4e6e-90d4-e4465012b8be",
   "metadata": {},
   "source": [
    "-  The box indicates the range in which the middle 50% of all data lies.\n",
    "-  Thus,the lower end of the box is the 1st quartile and the upper end is the 3rd quartile.\n",
    "-  25% of data below q1.\n",
    "- 25% of data upper q2.\n",
    "-  The box is find 50% of your data."
   ]
  },
  {
   "cell_type": "markdown",
   "id": "04cf853e-1e15-4c1e-990e-3beb4e5e63fe",
   "metadata": {},
   "source": [
    "-  Between q1 and q3 is interquartile range\n",
    "-  In boxplot, the soild line indicates median and dashed line indicates mean.\n",
    "-  T - shape whiskers go to the last point which is still within 1.5 times the interquartile range\n",
    "-  points that are further away are considered."
   ]
  },
  {
   "cell_type": "markdown",
   "id": "58867c1b-39c2-4781-a124-99240c782057",
   "metadata": {},
   "source": [
    "-  A boxplot gives a nice summary of one or more numeric variables. A boxplot is composed of several elements:\n",
    "\n",
    "-  The line that divides the box into 2 parts represents the median of the data. If the median is 10, it means that there are the same number of data points below and above 10.\n",
    "-  The ends of the box shows the upper (Q3) and lower (Q1) quartiles. If the third quartile is 15, it means that 75% of the observation are lower than 15.\n",
    "-  The difference between Quartiles 1 and 3 is called the interquartile range (IQR)\n",
    "-  The extreme line shows Q3+1.5xIQR to Q1-1.5xIQR (the highest and lowest value excluding outliers).\n",
    "-  Dots (or other markers) beyond the extreme line shows potntial outliers."
   ]
  },
  {
   "cell_type": "code",
   "execution_count": null,
   "id": "63bc25ee-638a-49cd-929f-de03fe7d1de6",
   "metadata": {},
   "outputs": [],
   "source": []
  },
  {
   "cell_type": "markdown",
   "id": "e4875a43-9f81-4573-b33a-4bbe62198be2",
   "metadata": {},
   "source": [
    "## What is Outliers?"
   ]
  },
  {
   "cell_type": "markdown",
   "id": "8e4fe3fe-e4b8-485f-b370-92882e6b0f70",
   "metadata": {},
   "source": [
    "-  An outlier in a set of data is a value which is very different from the others.\n",
    "-  sometimes,it's an error.In this case, it can be discounted.other times,it's a real value - just an unusal one.In this case,it should be kept.\n",
    "Example:\n",
    "-  list of high school graduates:\n",
    "-  [18,17,18,18,19,17,5,17,18,36,17]\n",
    "-  Here, 5 is a error and it should be discounted and 36 is maybe mature student can be added."
   ]
  },
  {
   "cell_type": "code",
   "execution_count": null,
   "id": "47781bf8-448a-4cba-b4da-2d528f595995",
   "metadata": {},
   "outputs": [],
   "source": []
  }
 ],
 "metadata": {
  "kernelspec": {
   "display_name": "Python 3 (ipykernel)",
   "language": "python",
   "name": "python3"
  },
  "language_info": {
   "codemirror_mode": {
    "name": "ipython",
    "version": 3
   },
   "file_extension": ".py",
   "mimetype": "text/x-python",
   "name": "python",
   "nbconvert_exporter": "python",
   "pygments_lexer": "ipython3",
   "version": "3.12.0"
  }
 },
 "nbformat": 4,
 "nbformat_minor": 5
}
